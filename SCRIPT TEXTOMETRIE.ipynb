{
 "cells": [
  {
   "cell_type": "markdown",
   "id": "8741e2b2",
   "metadata": {},
   "source": [
    "# Analyse des données textuelles"
   ]
  },
  {
   "cell_type": "code",
   "execution_count": 1,
   "id": "c77f7032",
   "metadata": {},
   "outputs": [],
   "source": [
    "import os\n",
    "import re\n",
    "import pandas as pd"
   ]
  },
  {
   "cell_type": "markdown",
   "id": "0008b554",
   "metadata": {},
   "source": [
    "#### Importer la base de données"
   ]
  },
  {
   "cell_type": "code",
   "execution_count": 2,
   "id": "acb4754d",
   "metadata": {},
   "outputs": [],
   "source": [
    "df = pd.read_csv('DF_JOB.csv', sep=';', encoding='cp1252')"
   ]
  },
  {
   "cell_type": "code",
   "execution_count": 3,
   "id": "6224be60",
   "metadata": {
    "scrolled": true
   },
   "outputs": [
    {
     "data": {
      "text/html": [
       "<div>\n",
       "<style scoped>\n",
       "    .dataframe tbody tr th:only-of-type {\n",
       "        vertical-align: middle;\n",
       "    }\n",
       "\n",
       "    .dataframe tbody tr th {\n",
       "        vertical-align: top;\n",
       "    }\n",
       "\n",
       "    .dataframe thead th {\n",
       "        text-align: right;\n",
       "    }\n",
       "</style>\n",
       "<table border=\"1\" class=\"dataframe\">\n",
       "  <thead>\n",
       "    <tr style=\"text-align: right;\">\n",
       "      <th></th>\n",
       "      <th>Unnamed: 0</th>\n",
       "      <th>TITRE</th>\n",
       "      <th>DESCRIPTION</th>\n",
       "      <th>ENTREPRISE</th>\n",
       "      <th>LIEUX</th>\n",
       "    </tr>\n",
       "  </thead>\n",
       "  <tbody>\n",
       "    <tr>\n",
       "      <th>0</th>\n",
       "      <td>1</td>\n",
       "      <td>rpa &amp; data : automatisation des flux de donnée...</td>\n",
       "      <td>description de l'entreprise almond recherche d...</td>\n",
       "      <td>almond</td>\n",
       "      <td>sèvres, hauts-de-seine</td>\n",
       "    </tr>\n",
       "    <tr>\n",
       "      <th>1</th>\n",
       "      <td>2</td>\n",
       "      <td>data scientist f/h</td>\n",
       "      <td>l'entreprise leader de son marché, le groupe p...</td>\n",
       "      <td>réseau primever</td>\n",
       "      <td>agen, lot-et-garonne</td>\n",
       "    </tr>\n",
       "    <tr>\n",
       "      <th>2</th>\n",
       "      <td>3</td>\n",
       "      <td>data engineer sénior (f/h)</td>\n",
       "      <td>description de l'entreprise asendit est spécia...</td>\n",
       "      <td>asendit</td>\n",
       "      <td>lyon</td>\n",
       "    </tr>\n",
       "  </tbody>\n",
       "</table>\n",
       "</div>"
      ],
      "text/plain": [
       "   Unnamed: 0                                              TITRE  \\\n",
       "0           1  rpa & data : automatisation des flux de donnée...   \n",
       "1           2                                 data scientist f/h   \n",
       "2           3                         data engineer sénior (f/h)   \n",
       "\n",
       "                                         DESCRIPTION       ENTREPRISE  \\\n",
       "0  description de l'entreprise almond recherche d...           almond   \n",
       "1  l'entreprise leader de son marché, le groupe p...  réseau primever   \n",
       "2  description de l'entreprise asendit est spécia...          asendit   \n",
       "\n",
       "                    LIEUX  \n",
       "0  sèvres, hauts-de-seine  \n",
       "1    agen, lot-et-garonne  \n",
       "2                    lyon  "
      ]
     },
     "execution_count": 3,
     "metadata": {},
     "output_type": "execute_result"
    }
   ],
   "source": [
    "df.head(3)"
   ]
  },
  {
   "cell_type": "markdown",
   "id": "c24daef1",
   "metadata": {},
   "source": [
    "####  Nettoyage et préparation de la base de données"
   ]
  },
  {
   "cell_type": "code",
   "execution_count": 4,
   "id": "dc796f65",
   "metadata": {},
   "outputs": [],
   "source": [
    "del df['Unnamed: 0']"
   ]
  },
  {
   "cell_type": "code",
   "execution_count": 5,
   "id": "b428b31f",
   "metadata": {
    "scrolled": true
   },
   "outputs": [
    {
     "data": {
      "text/html": [
       "<div>\n",
       "<style scoped>\n",
       "    .dataframe tbody tr th:only-of-type {\n",
       "        vertical-align: middle;\n",
       "    }\n",
       "\n",
       "    .dataframe tbody tr th {\n",
       "        vertical-align: top;\n",
       "    }\n",
       "\n",
       "    .dataframe thead th {\n",
       "        text-align: right;\n",
       "    }\n",
       "</style>\n",
       "<table border=\"1\" class=\"dataframe\">\n",
       "  <thead>\n",
       "    <tr style=\"text-align: right;\">\n",
       "      <th></th>\n",
       "      <th>TITRE</th>\n",
       "      <th>DESCRIPTION</th>\n",
       "      <th>ENTREPRISE</th>\n",
       "      <th>LIEUX</th>\n",
       "    </tr>\n",
       "  </thead>\n",
       "  <tbody>\n",
       "    <tr>\n",
       "      <th>0</th>\n",
       "      <td>rpa &amp; data : automatisation des flux de donnée...</td>\n",
       "      <td>description de l'entreprise almond recherche d...</td>\n",
       "      <td>almond</td>\n",
       "      <td>sèvres, hauts-de-seine</td>\n",
       "    </tr>\n",
       "    <tr>\n",
       "      <th>1</th>\n",
       "      <td>data scientist f/h</td>\n",
       "      <td>l'entreprise leader de son marché, le groupe p...</td>\n",
       "      <td>réseau primever</td>\n",
       "      <td>agen, lot-et-garonne</td>\n",
       "    </tr>\n",
       "    <tr>\n",
       "      <th>2</th>\n",
       "      <td>data engineer sénior (f/h)</td>\n",
       "      <td>description de l'entreprise asendit est spécia...</td>\n",
       "      <td>asendit</td>\n",
       "      <td>lyon</td>\n",
       "    </tr>\n",
       "  </tbody>\n",
       "</table>\n",
       "</div>"
      ],
      "text/plain": [
       "                                               TITRE  \\\n",
       "0  rpa & data : automatisation des flux de donnée...   \n",
       "1                                 data scientist f/h   \n",
       "2                         data engineer sénior (f/h)   \n",
       "\n",
       "                                         DESCRIPTION       ENTREPRISE  \\\n",
       "0  description de l'entreprise almond recherche d...           almond   \n",
       "1  l'entreprise leader de son marché, le groupe p...  réseau primever   \n",
       "2  description de l'entreprise asendit est spécia...          asendit   \n",
       "\n",
       "                    LIEUX  \n",
       "0  sèvres, hauts-de-seine  \n",
       "1    agen, lot-et-garonne  \n",
       "2                    lyon  "
      ]
     },
     "execution_count": 5,
     "metadata": {},
     "output_type": "execute_result"
    }
   ],
   "source": [
    "df.head(3)"
   ]
  },
  {
   "cell_type": "code",
   "execution_count": 6,
   "id": "fe706c60",
   "metadata": {},
   "outputs": [
    {
     "data": {
      "text/plain": [
       "(2000, 4)"
      ]
     },
     "execution_count": 6,
     "metadata": {},
     "output_type": "execute_result"
    }
   ],
   "source": [
    "df.shape"
   ]
  },
  {
   "cell_type": "code",
   "execution_count": 7,
   "id": "0a2b0a34",
   "metadata": {},
   "outputs": [],
   "source": [
    "def func(a):\n",
    "    if \"analyst\" in a.lower():\n",
    "        return \"data analyst\"\n",
    "    elif \"scientist\" in a.lower():\n",
    "        return \"data scientist\"\n",
    "    elif \"engineer\" in a.lower():\n",
    "        return \"data engineer\"\n",
    "    elif \"data science\" in a.lower():\n",
    "        return \"data scientist\"\n",
    "    elif \"bi \" in a.lower():\n",
    "        return \"bi\"\n",
    "    elif \"business intelligence\" in a.lower():\n",
    "        return \"bi\"\n",
    "    elif \"officer\" in a.lower():\n",
    "        return \"data officer\"\n",
    "    elif \"architect\" in a.lower():\n",
    "        return \"data architect\"\n",
    "    elif \"big data\" in a.lower():\n",
    "        return \"ingénieur big data\"\n",
    "    elif \"consultant\" in a.lower():\n",
    "        return \"consultant data\"\n",
    "    elif \"manager\" in a.lower():\n",
    "        return \"data manager\"\n",
    "    elif \"steward\" in a.lower():\n",
    "        return \"data steward\"\n",
    "    else:\n",
    "        return \"Other\"\n",
    "\n",
    "df[\"POSTE\"] = df.TITRE.apply(lambda x: func(x))"
   ]
  },
  {
   "cell_type": "code",
   "execution_count": 8,
   "id": "4c860d6d",
   "metadata": {
    "scrolled": true
   },
   "outputs": [
    {
     "data": {
      "text/html": [
       "<div>\n",
       "<style scoped>\n",
       "    .dataframe tbody tr th:only-of-type {\n",
       "        vertical-align: middle;\n",
       "    }\n",
       "\n",
       "    .dataframe tbody tr th {\n",
       "        vertical-align: top;\n",
       "    }\n",
       "\n",
       "    .dataframe thead th {\n",
       "        text-align: right;\n",
       "    }\n",
       "</style>\n",
       "<table border=\"1\" class=\"dataframe\">\n",
       "  <thead>\n",
       "    <tr style=\"text-align: right;\">\n",
       "      <th></th>\n",
       "      <th>TITRE</th>\n",
       "      <th>DESCRIPTION</th>\n",
       "      <th>ENTREPRISE</th>\n",
       "      <th>LIEUX</th>\n",
       "      <th>POSTE</th>\n",
       "    </tr>\n",
       "  </thead>\n",
       "  <tbody>\n",
       "    <tr>\n",
       "      <th>0</th>\n",
       "      <td>rpa &amp; data : automatisation des flux de donnée...</td>\n",
       "      <td>description de l'entreprise almond recherche d...</td>\n",
       "      <td>almond</td>\n",
       "      <td>sèvres, hauts-de-seine</td>\n",
       "      <td>Other</td>\n",
       "    </tr>\n",
       "    <tr>\n",
       "      <th>1</th>\n",
       "      <td>data scientist f/h</td>\n",
       "      <td>l'entreprise leader de son marché, le groupe p...</td>\n",
       "      <td>réseau primever</td>\n",
       "      <td>agen, lot-et-garonne</td>\n",
       "      <td>data scientist</td>\n",
       "    </tr>\n",
       "    <tr>\n",
       "      <th>2</th>\n",
       "      <td>data engineer sénior (f/h)</td>\n",
       "      <td>description de l'entreprise asendit est spécia...</td>\n",
       "      <td>asendit</td>\n",
       "      <td>lyon</td>\n",
       "      <td>data engineer</td>\n",
       "    </tr>\n",
       "    <tr>\n",
       "      <th>3</th>\n",
       "      <td>data analyst f/h</td>\n",
       "      <td>description de l'entreprise aventure entrepren...</td>\n",
       "      <td>voyage privé</td>\n",
       "      <td>aix-en-provence</td>\n",
       "      <td>data analyst</td>\n",
       "    </tr>\n",
       "    <tr>\n",
       "      <th>4</th>\n",
       "      <td>data scientist f/h</td>\n",
       "      <td>leader de son marché, le groupe primever dével...</td>\n",
       "      <td>réseau primever</td>\n",
       "      <td>agen, lot-et-garonne</td>\n",
       "      <td>data scientist</td>\n",
       "    </tr>\n",
       "  </tbody>\n",
       "</table>\n",
       "</div>"
      ],
      "text/plain": [
       "                                               TITRE  \\\n",
       "0  rpa & data : automatisation des flux de donnée...   \n",
       "1                                 data scientist f/h   \n",
       "2                         data engineer sénior (f/h)   \n",
       "3                                   data analyst f/h   \n",
       "4                                 data scientist f/h   \n",
       "\n",
       "                                         DESCRIPTION       ENTREPRISE  \\\n",
       "0  description de l'entreprise almond recherche d...           almond   \n",
       "1  l'entreprise leader de son marché, le groupe p...  réseau primever   \n",
       "2  description de l'entreprise asendit est spécia...          asendit   \n",
       "3  description de l'entreprise aventure entrepren...     voyage privé   \n",
       "4  leader de son marché, le groupe primever dével...  réseau primever   \n",
       "\n",
       "                    LIEUX           POSTE  \n",
       "0  sèvres, hauts-de-seine           Other  \n",
       "1    agen, lot-et-garonne  data scientist  \n",
       "2                    lyon   data engineer  \n",
       "3         aix-en-provence    data analyst  \n",
       "4    agen, lot-et-garonne  data scientist  "
      ]
     },
     "execution_count": 8,
     "metadata": {},
     "output_type": "execute_result"
    }
   ],
   "source": [
    "df.head(5)"
   ]
  },
  {
   "cell_type": "markdown",
   "id": "2d594324",
   "metadata": {},
   "source": [
    "#### Les métiers data recherchés "
   ]
  },
  {
   "cell_type": "code",
   "execution_count": 9,
   "id": "53afbc94",
   "metadata": {},
   "outputs": [
    {
     "data": {
      "text/plain": [
       "Other                 557\n",
       "data analyst          425\n",
       "data engineer         301\n",
       "data scientist        248\n",
       "consultant data       132\n",
       "data manager          117\n",
       "data architect         73\n",
       "ingénieur big data     69\n",
       "bi                     55\n",
       "data officer           15\n",
       "data steward            8\n",
       "Name: POSTE, dtype: int64"
      ]
     },
     "execution_count": 9,
     "metadata": {},
     "output_type": "execute_result"
    }
   ],
   "source": [
    "df['POSTE'].value_counts()"
   ]
  },
  {
   "cell_type": "markdown",
   "id": "07546d4a",
   "metadata": {},
   "source": [
    "#### Préparation des données textuelles de la colonne 'DESCRIPTION'"
   ]
  },
  {
   "cell_type": "code",
   "execution_count": 10,
   "id": "4596342d",
   "metadata": {},
   "outputs": [],
   "source": [
    "list_analyst = df.loc[df['POSTE'] == 'data analyst', 'DESCRIPTION'].values\n",
    "list_scientist = df.loc[df['POSTE'] == 'data scientist', 'DESCRIPTION']. values\n",
    "list_engineer = df.loc[df['POSTE'] == 'data engineer', 'DESCRIPTION']. values"
   ]
  },
  {
   "cell_type": "code",
   "execution_count": 11,
   "id": "277b5ae5",
   "metadata": {},
   "outputs": [
    {
     "data": {
      "text/plain": [
       "numpy.ndarray"
      ]
     },
     "execution_count": 11,
     "metadata": {},
     "output_type": "execute_result"
    }
   ],
   "source": [
    "type(list_analyst)"
   ]
  },
  {
   "cell_type": "code",
   "execution_count": 12,
   "id": "44aa7890",
   "metadata": {},
   "outputs": [
    {
     "data": {
      "text/plain": [
       "425"
      ]
     },
     "execution_count": 12,
     "metadata": {},
     "output_type": "execute_result"
    }
   ],
   "source": [
    "len(list_analyst)"
   ]
  },
  {
   "cell_type": "code",
   "execution_count": 13,
   "id": "0614f94e",
   "metadata": {},
   "outputs": [],
   "source": [
    "list_analyst = \" \".join(list_analyst)\n",
    "list_scientist = \" \".join(list_scientist)\n",
    "list_engineer = \" \".join(list_engineer)"
   ]
  },
  {
   "cell_type": "markdown",
   "id": "a10c841a",
   "metadata": {},
   "source": [
    "##### Nettoyage du texte des caractères spéciaux"
   ]
  },
  {
   "cell_type": "code",
   "execution_count": 14,
   "id": "f512671d",
   "metadata": {},
   "outputs": [],
   "source": [
    "list_analyst = re.sub(r\"[.´`:' ;,?=0123456789+@*–<>%»«^,)(#!/\\-•]+\",\" \",list_analyst) \n",
    "list_scientist = re.sub(r\"[.´`:' ;,?=0123456789+@*–<>%»«^,)(#!/\\-•]+\",\" \",list_scientist) \n",
    "list_engineer = re.sub(r\"[.´`:' ;,?=0123456789+@*–<>%»«^,)(#!/\\-•]+\",\" \",list_engineer) "
   ]
  },
  {
   "cell_type": "code",
   "execution_count": 15,
   "id": "74cc2821",
   "metadata": {},
   "outputs": [],
   "source": [
    "Poste = ['Data analyst', 'Data scientist', 'Data engineer']"
   ]
  },
  {
   "cell_type": "code",
   "execution_count": 16,
   "id": "22b4e8f7",
   "metadata": {},
   "outputs": [],
   "source": [
    "description = [list_analyst, list_scientist, list_engineer]"
   ]
  },
  {
   "cell_type": "code",
   "execution_count": 17,
   "id": "f3252f97",
   "metadata": {},
   "outputs": [],
   "source": [
    "nt = len(Poste)  \n",
    "d = ' '.join(description)\n",
    "e = d.split()"
   ]
  },
  {
   "cell_type": "markdown",
   "id": "46c375d4",
   "metadata": {},
   "source": [
    "#### création du dictionnaire \"motot\" pour associer chaque mot à son effectif "
   ]
  },
  {
   "cell_type": "code",
   "execution_count": 18,
   "id": "8ed56127",
   "metadata": {},
   "outputs": [],
   "source": [
    "motot={} "
   ]
  },
  {
   "cell_type": "code",
   "execution_count": 19,
   "id": "2dcee79e",
   "metadata": {},
   "outputs": [],
   "source": [
    "for mot in e:\n",
    "\tmotot[mot] = 0  \n",
    "for  mot in e:\n",
    "\tmotot[mot] += 1 "
   ]
  },
  {
   "cell_type": "markdown",
   "id": "a1253419",
   "metadata": {},
   "source": [
    "###### Les 10 premieres lignes de motot"
   ]
  },
  {
   "cell_type": "code",
   "execution_count": 24,
   "id": "df655b67",
   "metadata": {},
   "outputs": [
    {
     "data": {
      "text/plain": [
       "[('description', 480),\n",
       " ('de', 32398),\n",
       " ('l', 6562),\n",
       " ('entreprise', 902),\n",
       " ('aventure', 149),\n",
       " ('entrepreneuriale', 11),\n",
       " ('lancée', 17),\n",
       " ('en', 9299),\n",
       " ('france', 711),\n",
       " ('voyage', 42)]"
      ]
     },
     "execution_count": 24,
     "metadata": {},
     "output_type": "execute_result"
    }
   ],
   "source": [
    "list(motot.items())[0:10][0:10]"
   ]
  },
  {
   "cell_type": "code",
   "execution_count": 21,
   "id": "7562d1d2",
   "metadata": {},
   "outputs": [
    {
     "name": "stdout",
     "output_type": "stream",
     "text": [
      "la longueur du dictionnaire est : 16875 mots\n"
     ]
    }
   ],
   "source": [
    "print(\"la longueur du dictionnaire est :\",len(motot), \"mots\")"
   ]
  },
  {
   "cell_type": "markdown",
   "id": "2e0922d2",
   "metadata": {},
   "source": [
    "##### Associer chaque mot à son effectif dans les troix objets : \"list_analyst, list_sientist, list_engineer\" stocker dans l'objet \"description\""
   ]
  },
  {
   "cell_type": "code",
   "execution_count": 22,
   "id": "c7e45be0",
   "metadata": {},
   "outputs": [],
   "source": [
    "motex = {}"
   ]
  },
  {
   "cell_type": "code",
   "execution_count": 23,
   "id": "2ce8006b",
   "metadata": {},
   "outputs": [],
   "source": [
    "for mot in motot:\n",
    "    motex[mot] = [0]*nt"
   ]
  },
  {
   "cell_type": "markdown",
   "id": "36dafad7",
   "metadata": {},
   "source": [
    "###### Les 10 premieres lignes de motex"
   ]
  },
  {
   "cell_type": "code",
   "execution_count": 25,
   "id": "6f9d12e4",
   "metadata": {},
   "outputs": [
    {
     "data": {
      "text/plain": [
       "[('description', [0, 0, 0]),\n",
       " ('de', [0, 0, 0]),\n",
       " ('l', [0, 0, 0]),\n",
       " ('entreprise', [0, 0, 0]),\n",
       " ('aventure', [0, 0, 0]),\n",
       " ('entrepreneuriale', [0, 0, 0]),\n",
       " ('lancée', [0, 0, 0]),\n",
       " ('en', [0, 0, 0]),\n",
       " ('france', [0, 0, 0]),\n",
       " ('voyage', [0, 0, 0])]"
      ]
     },
     "execution_count": 25,
     "metadata": {},
     "output_type": "execute_result"
    }
   ],
   "source": [
    "list(motex.items())[0:10][0:10]"
   ]
  },
  {
   "cell_type": "code",
   "execution_count": 26,
   "id": "883c26aa",
   "metadata": {},
   "outputs": [],
   "source": [
    "for i in range(nt):   \n",
    "    for mot in description[i].split():\n",
    "        motex[mot][i] += 1 "
   ]
  },
  {
   "cell_type": "markdown",
   "id": "df320d0c",
   "metadata": {},
   "source": [
    "###### Les 10 premieres lignes de motex"
   ]
  },
  {
   "cell_type": "code",
   "execution_count": 27,
   "id": "2261e20f",
   "metadata": {},
   "outputs": [
    {
     "data": {
      "text/plain": [
       "[('description', [160, 114, 206]),\n",
       " ('de', [13556, 8280, 10562]),\n",
       " ('l', [2699, 1656, 2207]),\n",
       " ('entreprise', [394, 208, 300]),\n",
       " ('aventure', [69, 28, 52]),\n",
       " ('entrepreneuriale', [5, 3, 3]),\n",
       " ('lancée', [11, 1, 5]),\n",
       " ('en', [3945, 2372, 2982]),\n",
       " ('france', [369, 148, 194]),\n",
       " ('voyage', [12, 6, 24])]"
      ]
     },
     "execution_count": 27,
     "metadata": {},
     "output_type": "execute_result"
    }
   ],
   "source": [
    "list(motex.items())[0:10][0:10]"
   ]
  },
  {
   "cell_type": "markdown",
   "id": "419937b0",
   "metadata": {},
   "source": [
    "#### Transformer le dictionnaire en dataframe"
   ]
  },
  {
   "cell_type": "code",
   "execution_count": 29,
   "id": "793768bf",
   "metadata": {},
   "outputs": [
    {
     "data": {
      "text/html": [
       "<div>\n",
       "<style scoped>\n",
       "    .dataframe tbody tr th:only-of-type {\n",
       "        vertical-align: middle;\n",
       "    }\n",
       "\n",
       "    .dataframe tbody tr th {\n",
       "        vertical-align: top;\n",
       "    }\n",
       "\n",
       "    .dataframe thead th {\n",
       "        text-align: right;\n",
       "    }\n",
       "</style>\n",
       "<table border=\"1\" class=\"dataframe\">\n",
       "  <thead>\n",
       "    <tr style=\"text-align: right;\">\n",
       "      <th></th>\n",
       "      <th>0</th>\n",
       "      <th>1</th>\n",
       "      <th>2</th>\n",
       "    </tr>\n",
       "  </thead>\n",
       "  <tbody>\n",
       "    <tr>\n",
       "      <th>description</th>\n",
       "      <td>160</td>\n",
       "      <td>114</td>\n",
       "      <td>206</td>\n",
       "    </tr>\n",
       "    <tr>\n",
       "      <th>de</th>\n",
       "      <td>13556</td>\n",
       "      <td>8280</td>\n",
       "      <td>10562</td>\n",
       "    </tr>\n",
       "    <tr>\n",
       "      <th>l</th>\n",
       "      <td>2699</td>\n",
       "      <td>1656</td>\n",
       "      <td>2207</td>\n",
       "    </tr>\n",
       "  </tbody>\n",
       "</table>\n",
       "</div>"
      ],
      "text/plain": [
       "                 0     1      2\n",
       "description    160   114    206\n",
       "de           13556  8280  10562\n",
       "l             2699  1656   2207"
      ]
     },
     "execution_count": 29,
     "metadata": {},
     "output_type": "execute_result"
    }
   ],
   "source": [
    "texto = pd.DataFrame.from_dict(motex, orient='index')\n",
    "texto.head(3)"
   ]
  },
  {
   "cell_type": "code",
   "execution_count": 30,
   "id": "b4a3bec1",
   "metadata": {},
   "outputs": [
    {
     "data": {
      "text/html": [
       "<div>\n",
       "<style scoped>\n",
       "    .dataframe tbody tr th:only-of-type {\n",
       "        vertical-align: middle;\n",
       "    }\n",
       "\n",
       "    .dataframe tbody tr th {\n",
       "        vertical-align: top;\n",
       "    }\n",
       "\n",
       "    .dataframe thead th {\n",
       "        text-align: right;\n",
       "    }\n",
       "</style>\n",
       "<table border=\"1\" class=\"dataframe\">\n",
       "  <thead>\n",
       "    <tr style=\"text-align: right;\">\n",
       "      <th></th>\n",
       "      <th>index</th>\n",
       "      <th>0</th>\n",
       "      <th>1</th>\n",
       "      <th>2</th>\n",
       "    </tr>\n",
       "  </thead>\n",
       "  <tbody>\n",
       "    <tr>\n",
       "      <th>0</th>\n",
       "      <td>description</td>\n",
       "      <td>160</td>\n",
       "      <td>114</td>\n",
       "      <td>206</td>\n",
       "    </tr>\n",
       "    <tr>\n",
       "      <th>1</th>\n",
       "      <td>de</td>\n",
       "      <td>13556</td>\n",
       "      <td>8280</td>\n",
       "      <td>10562</td>\n",
       "    </tr>\n",
       "    <tr>\n",
       "      <th>2</th>\n",
       "      <td>l</td>\n",
       "      <td>2699</td>\n",
       "      <td>1656</td>\n",
       "      <td>2207</td>\n",
       "    </tr>\n",
       "  </tbody>\n",
       "</table>\n",
       "</div>"
      ],
      "text/plain": [
       "         index      0     1      2\n",
       "0  description    160   114    206\n",
       "1           de  13556  8280  10562\n",
       "2            l   2699  1656   2207"
      ]
     },
     "execution_count": 30,
     "metadata": {},
     "output_type": "execute_result"
    }
   ],
   "source": [
    "texto.reset_index(inplace=True)\n",
    "texto.head(3)"
   ]
  },
  {
   "cell_type": "code",
   "execution_count": 31,
   "id": "07d7ac94",
   "metadata": {},
   "outputs": [
    {
     "data": {
      "text/plain": [
       "Index(['index', 0, 1, 2], dtype='object')"
      ]
     },
     "execution_count": 31,
     "metadata": {},
     "output_type": "execute_result"
    }
   ],
   "source": [
    "(texto.columns)"
   ]
  },
  {
   "cell_type": "code",
   "execution_count": 32,
   "id": "d3a41c06",
   "metadata": {},
   "outputs": [],
   "source": [
    "texto.rename(columns = {'index':'mot',\n",
    "                        0:'Data analyst', \n",
    "                        1:'Data scientist',\n",
    "                        2:'Data engineer'}, inplace = True)"
   ]
  },
  {
   "cell_type": "code",
   "execution_count": 33,
   "id": "613b77cb",
   "metadata": {
    "scrolled": true
   },
   "outputs": [
    {
     "data": {
      "text/html": [
       "<div>\n",
       "<style scoped>\n",
       "    .dataframe tbody tr th:only-of-type {\n",
       "        vertical-align: middle;\n",
       "    }\n",
       "\n",
       "    .dataframe tbody tr th {\n",
       "        vertical-align: top;\n",
       "    }\n",
       "\n",
       "    .dataframe thead th {\n",
       "        text-align: right;\n",
       "    }\n",
       "</style>\n",
       "<table border=\"1\" class=\"dataframe\">\n",
       "  <thead>\n",
       "    <tr style=\"text-align: right;\">\n",
       "      <th></th>\n",
       "      <th>mot</th>\n",
       "      <th>Data analyst</th>\n",
       "      <th>Data scientist</th>\n",
       "      <th>Data engineer</th>\n",
       "    </tr>\n",
       "  </thead>\n",
       "  <tbody>\n",
       "    <tr>\n",
       "      <th>0</th>\n",
       "      <td>description</td>\n",
       "      <td>160</td>\n",
       "      <td>114</td>\n",
       "      <td>206</td>\n",
       "    </tr>\n",
       "    <tr>\n",
       "      <th>1</th>\n",
       "      <td>de</td>\n",
       "      <td>13556</td>\n",
       "      <td>8280</td>\n",
       "      <td>10562</td>\n",
       "    </tr>\n",
       "    <tr>\n",
       "      <th>2</th>\n",
       "      <td>l</td>\n",
       "      <td>2699</td>\n",
       "      <td>1656</td>\n",
       "      <td>2207</td>\n",
       "    </tr>\n",
       "  </tbody>\n",
       "</table>\n",
       "</div>"
      ],
      "text/plain": [
       "           mot  Data analyst  Data scientist  Data engineer\n",
       "0  description           160             114            206\n",
       "1           de         13556            8280          10562\n",
       "2            l          2699            1656           2207"
      ]
     },
     "execution_count": 33,
     "metadata": {},
     "output_type": "execute_result"
    }
   ],
   "source": [
    "texto.head(3)"
   ]
  },
  {
   "cell_type": "markdown",
   "id": "24b0f6e9",
   "metadata": {},
   "source": [
    "#### Création d'une liste des outils informatiques des métiers data "
   ]
  },
  {
   "cell_type": "code",
   "execution_count": 34,
   "id": "78bc3896",
   "metadata": {},
   "outputs": [],
   "source": [
    "word = ['sql', 'bi', 'python', 'sas', 'etl', 'oracle', 'machinelearning', 'rstudio', 'api', 'power', \n",
    "        'talend', 'mysql', 'r', 'java', 'js', 'javascrispt', 'mongodb', 'cloud', 'datawarehouse',\n",
    "       'datamarts', 'dataviz', 'qlik', 'nosql', 'Datavisualisation', 'query', 'datalake', 'bigquery',\n",
    "       'postgresql', 'warehousing', 'reporting', 'css', 'html', 'kpi', 'api', 'reactjs', 'nlp', 'pandas',\n",
    "       'scikit', 'tensorflow', 'numpy', 'matplotlib', 'seaborn', 'scala', 'docker', 'github', 'apache',\n",
    "       'spark', 'tableau', 'dataiku', 'mining', 'datamining', 'Storytelling', 'crm', 'aws', 'azure', 'informatica',\n",
    "       'spreadsheet', 'classification', 'clustering', 'rgpd', 'dashboards', 'jupyter', 'nltk', 'ggplot', 'microsoft',\n",
    "       'matlab', 'scipy', 'hadoop', 'php', 'linux']"
   ]
  },
  {
   "cell_type": "code",
   "execution_count": 35,
   "id": "390b52dc",
   "metadata": {},
   "outputs": [
    {
     "data": {
      "text/plain": [
       "70"
      ]
     },
     "execution_count": 35,
     "metadata": {},
     "output_type": "execute_result"
    }
   ],
   "source": [
    "len(word)"
   ]
  },
  {
   "cell_type": "markdown",
   "id": "4177301d",
   "metadata": {},
   "source": [
    "#### Garder uniquement les lignes contenant les mots dans la liste \"word\""
   ]
  },
  {
   "cell_type": "code",
   "execution_count": 36,
   "id": "7915d714",
   "metadata": {},
   "outputs": [],
   "source": [
    "fss = texto[texto.mot.isin(word) == True]"
   ]
  },
  {
   "cell_type": "code",
   "execution_count": 37,
   "id": "8d3e2103",
   "metadata": {},
   "outputs": [
    {
     "data": {
      "text/html": [
       "<div>\n",
       "<style scoped>\n",
       "    .dataframe tbody tr th:only-of-type {\n",
       "        vertical-align: middle;\n",
       "    }\n",
       "\n",
       "    .dataframe tbody tr th {\n",
       "        vertical-align: top;\n",
       "    }\n",
       "\n",
       "    .dataframe thead th {\n",
       "        text-align: right;\n",
       "    }\n",
       "</style>\n",
       "<table border=\"1\" class=\"dataframe\">\n",
       "  <thead>\n",
       "    <tr style=\"text-align: right;\">\n",
       "      <th></th>\n",
       "      <th>mot</th>\n",
       "      <th>Data analyst</th>\n",
       "      <th>Data scientist</th>\n",
       "      <th>Data engineer</th>\n",
       "    </tr>\n",
       "  </thead>\n",
       "  <tbody>\n",
       "    <tr>\n",
       "      <th>127</th>\n",
       "      <td>crm</td>\n",
       "      <td>77</td>\n",
       "      <td>36</td>\n",
       "      <td>23</td>\n",
       "    </tr>\n",
       "    <tr>\n",
       "      <th>263</th>\n",
       "      <td>tableau</td>\n",
       "      <td>135</td>\n",
       "      <td>21</td>\n",
       "      <td>42</td>\n",
       "    </tr>\n",
       "    <tr>\n",
       "      <th>264</th>\n",
       "      <td>dataiku</td>\n",
       "      <td>31</td>\n",
       "      <td>26</td>\n",
       "      <td>9</td>\n",
       "    </tr>\n",
       "    <tr>\n",
       "      <th>266</th>\n",
       "      <td>bigquery</td>\n",
       "      <td>15</td>\n",
       "      <td>9</td>\n",
       "      <td>33</td>\n",
       "    </tr>\n",
       "    <tr>\n",
       "      <th>268</th>\n",
       "      <td>etl</td>\n",
       "      <td>41</td>\n",
       "      <td>9</td>\n",
       "      <td>113</td>\n",
       "    </tr>\n",
       "    <tr>\n",
       "      <th>270</th>\n",
       "      <td>apache</td>\n",
       "      <td>1</td>\n",
       "      <td>2</td>\n",
       "      <td>16</td>\n",
       "    </tr>\n",
       "    <tr>\n",
       "      <th>271</th>\n",
       "      <td>spark</td>\n",
       "      <td>13</td>\n",
       "      <td>53</td>\n",
       "      <td>161</td>\n",
       "    </tr>\n",
       "    <tr>\n",
       "      <th>275</th>\n",
       "      <td>cloud</td>\n",
       "      <td>71</td>\n",
       "      <td>102</td>\n",
       "      <td>418</td>\n",
       "    </tr>\n",
       "    <tr>\n",
       "      <th>280</th>\n",
       "      <td>python</td>\n",
       "      <td>203</td>\n",
       "      <td>271</td>\n",
       "      <td>267</td>\n",
       "    </tr>\n",
       "    <tr>\n",
       "      <th>281</th>\n",
       "      <td>scala</td>\n",
       "      <td>6</td>\n",
       "      <td>19</td>\n",
       "      <td>100</td>\n",
       "    </tr>\n",
       "  </tbody>\n",
       "</table>\n",
       "</div>"
      ],
      "text/plain": [
       "          mot  Data analyst  Data scientist  Data engineer\n",
       "127       crm            77              36             23\n",
       "263   tableau           135              21             42\n",
       "264   dataiku            31              26              9\n",
       "266  bigquery            15               9             33\n",
       "268       etl            41               9            113\n",
       "270    apache             1               2             16\n",
       "271     spark            13              53            161\n",
       "275     cloud            71             102            418\n",
       "280    python           203             271            267\n",
       "281     scala             6              19            100"
      ]
     },
     "execution_count": 37,
     "metadata": {},
     "output_type": "execute_result"
    }
   ],
   "source": [
    "fss.head(10)"
   ]
  },
  {
   "cell_type": "code",
   "execution_count": 38,
   "id": "93995cde",
   "metadata": {},
   "outputs": [
    {
     "data": {
      "text/plain": [
       "(66, 4)"
      ]
     },
     "execution_count": 38,
     "metadata": {},
     "output_type": "execute_result"
    }
   ],
   "source": [
    "fss.shape"
   ]
  },
  {
   "cell_type": "markdown",
   "id": "3e3a4f5b",
   "metadata": {},
   "source": [
    "#### Exportation de la base de données en format excel"
   ]
  },
  {
   "cell_type": "code",
   "execution_count": 39,
   "id": "e7582377",
   "metadata": {},
   "outputs": [],
   "source": [
    "fss.to_excel(r'final result.xlsx')"
   ]
  },
  {
   "cell_type": "markdown",
   "id": "8563afbb",
   "metadata": {},
   "source": [
    "##### Tri décroissant en fonction de compétences techniques les plus recherchées pour le poste Data Analyst"
   ]
  },
  {
   "cell_type": "code",
   "execution_count": 40,
   "id": "b35748f5",
   "metadata": {},
   "outputs": [
    {
     "data": {
      "text/html": [
       "<div>\n",
       "<style scoped>\n",
       "    .dataframe tbody tr th:only-of-type {\n",
       "        vertical-align: middle;\n",
       "    }\n",
       "\n",
       "    .dataframe tbody tr th {\n",
       "        vertical-align: top;\n",
       "    }\n",
       "\n",
       "    .dataframe thead th {\n",
       "        text-align: right;\n",
       "    }\n",
       "</style>\n",
       "<table border=\"1\" class=\"dataframe\">\n",
       "  <thead>\n",
       "    <tr style=\"text-align: right;\">\n",
       "      <th></th>\n",
       "      <th>mot</th>\n",
       "      <th>Data analyst</th>\n",
       "      <th>Data scientist</th>\n",
       "      <th>Data engineer</th>\n",
       "    </tr>\n",
       "  </thead>\n",
       "  <tbody>\n",
       "    <tr>\n",
       "      <th>311</th>\n",
       "      <td>sql</td>\n",
       "      <td>284</td>\n",
       "      <td>111</td>\n",
       "      <td>214</td>\n",
       "    </tr>\n",
       "    <tr>\n",
       "      <th>314</th>\n",
       "      <td>bi</td>\n",
       "      <td>255</td>\n",
       "      <td>25</td>\n",
       "      <td>134</td>\n",
       "    </tr>\n",
       "    <tr>\n",
       "      <th>280</th>\n",
       "      <td>python</td>\n",
       "      <td>203</td>\n",
       "      <td>271</td>\n",
       "      <td>267</td>\n",
       "    </tr>\n",
       "    <tr>\n",
       "      <th>688</th>\n",
       "      <td>reporting</td>\n",
       "      <td>136</td>\n",
       "      <td>10</td>\n",
       "      <td>38</td>\n",
       "    </tr>\n",
       "    <tr>\n",
       "      <th>263</th>\n",
       "      <td>tableau</td>\n",
       "      <td>135</td>\n",
       "      <td>21</td>\n",
       "      <td>42</td>\n",
       "    </tr>\n",
       "    <tr>\n",
       "      <th>1887</th>\n",
       "      <td>power</td>\n",
       "      <td>128</td>\n",
       "      <td>14</td>\n",
       "      <td>51</td>\n",
       "    </tr>\n",
       "  </tbody>\n",
       "</table>\n",
       "</div>"
      ],
      "text/plain": [
       "            mot  Data analyst  Data scientist  Data engineer\n",
       "311         sql           284             111            214\n",
       "314          bi           255              25            134\n",
       "280      python           203             271            267\n",
       "688   reporting           136              10             38\n",
       "263     tableau           135              21             42\n",
       "1887      power           128              14             51"
      ]
     },
     "execution_count": 40,
     "metadata": {},
     "output_type": "execute_result"
    }
   ],
   "source": [
    "fss.sort_values(by='Data analyst', ascending=False).head(6)"
   ]
  },
  {
   "cell_type": "markdown",
   "id": "6448b8f2",
   "metadata": {},
   "source": [
    "##### Tri décroissant en fonction de compétences techniques les plus recherchées pour le poste Data Scientist"
   ]
  },
  {
   "cell_type": "code",
   "execution_count": 41,
   "id": "ef72e210",
   "metadata": {},
   "outputs": [
    {
     "data": {
      "text/html": [
       "<div>\n",
       "<style scoped>\n",
       "    .dataframe tbody tr th:only-of-type {\n",
       "        vertical-align: middle;\n",
       "    }\n",
       "\n",
       "    .dataframe tbody tr th {\n",
       "        vertical-align: top;\n",
       "    }\n",
       "\n",
       "    .dataframe thead th {\n",
       "        text-align: right;\n",
       "    }\n",
       "</style>\n",
       "<table border=\"1\" class=\"dataframe\">\n",
       "  <thead>\n",
       "    <tr style=\"text-align: right;\">\n",
       "      <th></th>\n",
       "      <th>mot</th>\n",
       "      <th>Data analyst</th>\n",
       "      <th>Data scientist</th>\n",
       "      <th>Data engineer</th>\n",
       "    </tr>\n",
       "  </thead>\n",
       "  <tbody>\n",
       "    <tr>\n",
       "      <th>280</th>\n",
       "      <td>python</td>\n",
       "      <td>203</td>\n",
       "      <td>271</td>\n",
       "      <td>267</td>\n",
       "    </tr>\n",
       "    <tr>\n",
       "      <th>311</th>\n",
       "      <td>sql</td>\n",
       "      <td>284</td>\n",
       "      <td>111</td>\n",
       "      <td>214</td>\n",
       "    </tr>\n",
       "    <tr>\n",
       "      <th>275</th>\n",
       "      <td>cloud</td>\n",
       "      <td>71</td>\n",
       "      <td>102</td>\n",
       "      <td>418</td>\n",
       "    </tr>\n",
       "    <tr>\n",
       "      <th>333</th>\n",
       "      <td>r</td>\n",
       "      <td>67</td>\n",
       "      <td>102</td>\n",
       "      <td>17</td>\n",
       "    </tr>\n",
       "    <tr>\n",
       "      <th>11812</th>\n",
       "      <td>nlp</td>\n",
       "      <td>0</td>\n",
       "      <td>59</td>\n",
       "      <td>7</td>\n",
       "    </tr>\n",
       "    <tr>\n",
       "      <th>1919</th>\n",
       "      <td>azure</td>\n",
       "      <td>39</td>\n",
       "      <td>59</td>\n",
       "      <td>237</td>\n",
       "    </tr>\n",
       "  </tbody>\n",
       "</table>\n",
       "</div>"
      ],
      "text/plain": [
       "          mot  Data analyst  Data scientist  Data engineer\n",
       "280    python           203             271            267\n",
       "311       sql           284             111            214\n",
       "275     cloud            71             102            418\n",
       "333         r            67             102             17\n",
       "11812     nlp             0              59              7\n",
       "1919    azure            39              59            237"
      ]
     },
     "execution_count": 41,
     "metadata": {},
     "output_type": "execute_result"
    }
   ],
   "source": [
    "fss.sort_values(by='Data scientist', ascending=False).head(6)"
   ]
  },
  {
   "cell_type": "markdown",
   "id": "24a4976a",
   "metadata": {},
   "source": [
    "##### Tri décroissant en fonction de compétences techniques les plus recherchées pour le poste Data Engineer"
   ]
  },
  {
   "cell_type": "code",
   "execution_count": 42,
   "id": "034ce864",
   "metadata": {},
   "outputs": [
    {
     "data": {
      "text/html": [
       "<div>\n",
       "<style scoped>\n",
       "    .dataframe tbody tr th:only-of-type {\n",
       "        vertical-align: middle;\n",
       "    }\n",
       "\n",
       "    .dataframe tbody tr th {\n",
       "        vertical-align: top;\n",
       "    }\n",
       "\n",
       "    .dataframe thead th {\n",
       "        text-align: right;\n",
       "    }\n",
       "</style>\n",
       "<table border=\"1\" class=\"dataframe\">\n",
       "  <thead>\n",
       "    <tr style=\"text-align: right;\">\n",
       "      <th></th>\n",
       "      <th>mot</th>\n",
       "      <th>Data analyst</th>\n",
       "      <th>Data scientist</th>\n",
       "      <th>Data engineer</th>\n",
       "    </tr>\n",
       "  </thead>\n",
       "  <tbody>\n",
       "    <tr>\n",
       "      <th>275</th>\n",
       "      <td>cloud</td>\n",
       "      <td>71</td>\n",
       "      <td>102</td>\n",
       "      <td>418</td>\n",
       "    </tr>\n",
       "    <tr>\n",
       "      <th>280</th>\n",
       "      <td>python</td>\n",
       "      <td>203</td>\n",
       "      <td>271</td>\n",
       "      <td>267</td>\n",
       "    </tr>\n",
       "    <tr>\n",
       "      <th>1919</th>\n",
       "      <td>azure</td>\n",
       "      <td>39</td>\n",
       "      <td>59</td>\n",
       "      <td>237</td>\n",
       "    </tr>\n",
       "    <tr>\n",
       "      <th>311</th>\n",
       "      <td>sql</td>\n",
       "      <td>284</td>\n",
       "      <td>111</td>\n",
       "      <td>214</td>\n",
       "    </tr>\n",
       "    <tr>\n",
       "      <th>271</th>\n",
       "      <td>spark</td>\n",
       "      <td>13</td>\n",
       "      <td>53</td>\n",
       "      <td>161</td>\n",
       "    </tr>\n",
       "    <tr>\n",
       "      <th>314</th>\n",
       "      <td>bi</td>\n",
       "      <td>255</td>\n",
       "      <td>25</td>\n",
       "      <td>134</td>\n",
       "    </tr>\n",
       "  </tbody>\n",
       "</table>\n",
       "</div>"
      ],
      "text/plain": [
       "         mot  Data analyst  Data scientist  Data engineer\n",
       "275    cloud            71             102            418\n",
       "280   python           203             271            267\n",
       "1919   azure            39              59            237\n",
       "311      sql           284             111            214\n",
       "271    spark            13              53            161\n",
       "314       bi           255              25            134"
      ]
     },
     "execution_count": 42,
     "metadata": {},
     "output_type": "execute_result"
    }
   ],
   "source": [
    "fss.sort_values(by='Data engineer', ascending=False).head(6)"
   ]
  }
 ],
 "metadata": {
  "kernelspec": {
   "display_name": "Python 3 (ipykernel)",
   "language": "python",
   "name": "python3"
  },
  "language_info": {
   "codemirror_mode": {
    "name": "ipython",
    "version": 3
   },
   "file_extension": ".py",
   "mimetype": "text/x-python",
   "name": "python",
   "nbconvert_exporter": "python",
   "pygments_lexer": "ipython3",
   "version": "3.9.7"
  }
 },
 "nbformat": 4,
 "nbformat_minor": 5
}
